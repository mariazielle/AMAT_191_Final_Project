{
 "cells": [
  {
   "cell_type": "code",
   "execution_count": 21,
   "id": "144de209",
   "metadata": {},
   "outputs": [],
   "source": [
    "import pandas as pd\n",
    "import numpy as np\n",
    "from sklearn.model_selection import train_test_split\n",
    "from sklearn.metrics import mean_squared_error, mean_absolute_error\n",
    "from sklearn.linear_model import LinearRegression, RidgeCV, LassoCV, BayesianRidge, ElasticNetCV"
   ]
  },
  {
   "cell_type": "code",
   "execution_count": 22,
   "id": "75dea46f",
   "metadata": {},
   "outputs": [
    {
     "data": {
      "text/html": [
       "<div>\n",
       "<style scoped>\n",
       "    .dataframe tbody tr th:only-of-type {\n",
       "        vertical-align: middle;\n",
       "    }\n",
       "\n",
       "    .dataframe tbody tr th {\n",
       "        vertical-align: top;\n",
       "    }\n",
       "\n",
       "    .dataframe thead th {\n",
       "        text-align: right;\n",
       "    }\n",
       "</style>\n",
       "<table border=\"1\" class=\"dataframe\">\n",
       "  <thead>\n",
       "    <tr style=\"text-align: right;\">\n",
       "      <th></th>\n",
       "      <th>Gender</th>\n",
       "      <th>Age</th>\n",
       "      <th>Education_Level</th>\n",
       "      <th>Institution_Type</th>\n",
       "      <th>IT_Student</th>\n",
       "      <th>Location</th>\n",
       "      <th>Load-shedding</th>\n",
       "      <th>Financial_Condition</th>\n",
       "      <th>Internet_Type</th>\n",
       "      <th>Network_Type</th>\n",
       "      <th>Class_Duration</th>\n",
       "      <th>Self_Lms</th>\n",
       "      <th>Device</th>\n",
       "      <th>Adaptivity_Level</th>\n",
       "    </tr>\n",
       "  </thead>\n",
       "  <tbody>\n",
       "    <tr>\n",
       "      <th>0</th>\n",
       "      <td>Girl</td>\n",
       "      <td>21 - 25</td>\n",
       "      <td>University</td>\n",
       "      <td>Non Government</td>\n",
       "      <td>No</td>\n",
       "      <td>Yes</td>\n",
       "      <td>2</td>\n",
       "      <td>Mid</td>\n",
       "      <td>Mobile Data</td>\n",
       "      <td>4G</td>\n",
       "      <td>1 - 3</td>\n",
       "      <td>Yes</td>\n",
       "      <td>Mobile</td>\n",
       "      <td>1</td>\n",
       "    </tr>\n",
       "    <tr>\n",
       "      <th>1</th>\n",
       "      <td>Girl</td>\n",
       "      <td>16 - 20</td>\n",
       "      <td>College</td>\n",
       "      <td>Government</td>\n",
       "      <td>No</td>\n",
       "      <td>Yes</td>\n",
       "      <td>0</td>\n",
       "      <td>Mid</td>\n",
       "      <td>Wifi</td>\n",
       "      <td>4G</td>\n",
       "      <td>1 - 3</td>\n",
       "      <td>No</td>\n",
       "      <td>Mobile</td>\n",
       "      <td>1</td>\n",
       "    </tr>\n",
       "    <tr>\n",
       "      <th>2</th>\n",
       "      <td>Girl</td>\n",
       "      <td>11 - 15</td>\n",
       "      <td>School</td>\n",
       "      <td>Non Government</td>\n",
       "      <td>No</td>\n",
       "      <td>Yes</td>\n",
       "      <td>0</td>\n",
       "      <td>Mid</td>\n",
       "      <td>Mobile Data</td>\n",
       "      <td>4G</td>\n",
       "      <td>1 - 3</td>\n",
       "      <td>No</td>\n",
       "      <td>Mobile</td>\n",
       "      <td>1</td>\n",
       "    </tr>\n",
       "    <tr>\n",
       "      <th>3</th>\n",
       "      <td>Boy</td>\n",
       "      <td>11 - 15</td>\n",
       "      <td>School</td>\n",
       "      <td>Non Government</td>\n",
       "      <td>No</td>\n",
       "      <td>Yes</td>\n",
       "      <td>0</td>\n",
       "      <td>Poor</td>\n",
       "      <td>Mobile Data</td>\n",
       "      <td>3G</td>\n",
       "      <td>1 - 3</td>\n",
       "      <td>No</td>\n",
       "      <td>Mobile</td>\n",
       "      <td>0</td>\n",
       "    </tr>\n",
       "    <tr>\n",
       "      <th>4</th>\n",
       "      <td>Girl</td>\n",
       "      <td>16 - 20</td>\n",
       "      <td>School</td>\n",
       "      <td>Non Government</td>\n",
       "      <td>No</td>\n",
       "      <td>Yes</td>\n",
       "      <td>0</td>\n",
       "      <td>Poor</td>\n",
       "      <td>Mobile Data</td>\n",
       "      <td>3G</td>\n",
       "      <td>0</td>\n",
       "      <td>No</td>\n",
       "      <td>Mobile</td>\n",
       "      <td>0</td>\n",
       "    </tr>\n",
       "  </tbody>\n",
       "</table>\n",
       "</div>"
      ],
      "text/plain": [
       "  Gender      Age Education_Level Institution_Type IT_Student Location  \\\n",
       "0   Girl  21 - 25      University   Non Government         No      Yes   \n",
       "1   Girl  16 - 20         College       Government         No      Yes   \n",
       "2   Girl  11 - 15          School   Non Government         No      Yes   \n",
       "3    Boy  11 - 15          School   Non Government         No      Yes   \n",
       "4   Girl  16 - 20          School   Non Government         No      Yes   \n",
       "\n",
       "   Load-shedding Financial_Condition Internet_Type Network_Type  \\\n",
       "0              2                 Mid   Mobile Data           4G   \n",
       "1              0                 Mid          Wifi           4G   \n",
       "2              0                 Mid   Mobile Data           4G   \n",
       "3              0                Poor   Mobile Data           3G   \n",
       "4              0                Poor   Mobile Data           3G   \n",
       "\n",
       "  Class_Duration Self_Lms  Device  Adaptivity_Level  \n",
       "0          1 - 3      Yes  Mobile                 1  \n",
       "1          1 - 3       No  Mobile                 1  \n",
       "2          1 - 3       No  Mobile                 1  \n",
       "3          1 - 3       No  Mobile                 0  \n",
       "4              0       No  Mobile                 0  "
      ]
     },
     "execution_count": 22,
     "metadata": {},
     "output_type": "execute_result"
    }
   ],
   "source": [
    "#read csv file and store in data Data Frame\n",
    "data =pd.read_csv(\"C:\\\\Users\\\\Zel\\\\Desktop\\\\191 Machine Learning\\\\dataset\\\\Final Data.csv\", delimiter=',')\n",
    "data.head()"
   ]
  },
  {
   "cell_type": "code",
   "execution_count": 23,
   "id": "f82976cd",
   "metadata": {},
   "outputs": [
    {
     "name": "stdout",
     "output_type": "stream",
     "text": [
      "<class 'pandas.core.frame.DataFrame'>\n",
      "RangeIndex: 901 entries, 0 to 900\n",
      "Data columns (total 14 columns):\n",
      " #   Column               Non-Null Count  Dtype \n",
      "---  ------               --------------  ----- \n",
      " 0   Gender               901 non-null    object\n",
      " 1   Age                  901 non-null    object\n",
      " 2   Education_Level      901 non-null    object\n",
      " 3   Institution_Type     901 non-null    object\n",
      " 4   IT_Student           901 non-null    object\n",
      " 5   Location             901 non-null    object\n",
      " 6   Load-shedding        901 non-null    int64 \n",
      " 7   Financial_Condition  901 non-null    object\n",
      " 8   Internet_Type        901 non-null    object\n",
      " 9   Network_Type         901 non-null    object\n",
      " 10  Class_Duration       901 non-null    object\n",
      " 11  Self_Lms             901 non-null    object\n",
      " 12  Device               901 non-null    object\n",
      " 13  Adaptivity_Level     901 non-null    int64 \n",
      "dtypes: int64(2), object(12)\n",
      "memory usage: 98.7+ KB\n"
     ]
    }
   ],
   "source": [
    "#Data Frame checking\n",
    "data.info()"
   ]
  },
  {
   "cell_type": "code",
   "execution_count": 24,
   "id": "91050e46",
   "metadata": {},
   "outputs": [
    {
     "name": "stdout",
     "output_type": "stream",
     "text": [
      "<class 'pandas.core.frame.DataFrame'>\n",
      "RangeIndex: 901 entries, 0 to 900\n",
      "Data columns (total 12 columns):\n",
      " #   Column               Non-Null Count  Dtype \n",
      "---  ------               --------------  ----- \n",
      " 0   Gender               901 non-null    object\n",
      " 1   Age                  901 non-null    object\n",
      " 2   Education_Level      901 non-null    object\n",
      " 3   Institution_Type     901 non-null    object\n",
      " 4   IT_Student           901 non-null    object\n",
      " 5   Location             901 non-null    object\n",
      " 6   Financial_Condition  901 non-null    object\n",
      " 7   Internet_Type        901 non-null    object\n",
      " 8   Network_Type         901 non-null    object\n",
      " 9   Class_Duration       901 non-null    object\n",
      " 10  Self_Lms             901 non-null    object\n",
      " 11  Device               901 non-null    object\n",
      "dtypes: object(12)\n",
      "memory usage: 84.6+ KB\n"
     ]
    }
   ],
   "source": [
    "#Store all object type (categorical columns) to a new data frame data_category\n",
    "category_columns = data.select_dtypes(['object']).columns\n",
    "data_category = data[category_columns]\n",
    "data_category.info()"
   ]
  },
  {
   "cell_type": "code",
   "execution_count": 25,
   "id": "03df905c",
   "metadata": {},
   "outputs": [],
   "source": [
    "#Using one-hot-encoding to convert object type variables to numeric\n",
    "dummies = pd.get_dummies( data[category_columns],drop_first=True)\n",
    "for i in data_category.columns:\n",
    "    if len(data_category.groupby([i]).size()) >2:\n",
    "        data_category = pd.get_dummies(data_category, prefix=[i], columns=[i])\n",
    "data_category = pd.get_dummies(data_category, drop_first=True)"
   ]
  },
  {
   "cell_type": "code",
   "execution_count": 26,
   "id": "dec04a8e",
   "metadata": {},
   "outputs": [
    {
     "name": "stdout",
     "output_type": "stream",
     "text": [
      "<class 'pandas.core.frame.DataFrame'>\n",
      "RangeIndex: 901 entries, 0 to 900\n",
      "Data columns (total 26 columns):\n",
      " #   Column                           Non-Null Count  Dtype\n",
      "---  ------                           --------------  -----\n",
      " 0   Age_1 - 5                        901 non-null    uint8\n",
      " 1   Age_11 - 15                      901 non-null    uint8\n",
      " 2   Age_16 - 20                      901 non-null    uint8\n",
      " 3   Age_21 - 25                      901 non-null    uint8\n",
      " 4   Age_26 - 30                      901 non-null    uint8\n",
      " 5   Age_6 - 10                       901 non-null    uint8\n",
      " 6   Education_Level_College          901 non-null    uint8\n",
      " 7   Education_Level_School           901 non-null    uint8\n",
      " 8   Education_Level_University       901 non-null    uint8\n",
      " 9   Financial_Condition_Mid          901 non-null    uint8\n",
      " 10  Financial_Condition_Poor         901 non-null    uint8\n",
      " 11  Financial_Condition_Rich         901 non-null    uint8\n",
      " 12  Network_Type_2G                  901 non-null    uint8\n",
      " 13  Network_Type_3G                  901 non-null    uint8\n",
      " 14  Network_Type_4G                  901 non-null    uint8\n",
      " 15  Class_Duration_0                 901 non-null    uint8\n",
      " 16  Class_Duration_1 - 3             901 non-null    uint8\n",
      " 17  Class_Duration_3 - 6             901 non-null    uint8\n",
      " 18  Device_Computer                  901 non-null    uint8\n",
      " 19  Device_Mobile                    901 non-null    uint8\n",
      " 20  Device_Tab                       901 non-null    uint8\n",
      " 21  Gender_Girl                      901 non-null    uint8\n",
      " 22  Institution_Type_Non Government  901 non-null    uint8\n",
      " 23  Location_Yes                     901 non-null    uint8\n",
      " 24  Internet_Type_Wifi               901 non-null    uint8\n",
      " 25  Self_Lms_Yes                     901 non-null    uint8\n",
      "dtypes: uint8(26)\n",
      "memory usage: 23.0 KB\n"
     ]
    }
   ],
   "source": [
    "#Checking the converted object types if everything is numeric\n",
    "data_category.info()"
   ]
  },
  {
   "cell_type": "code",
   "execution_count": 27,
   "id": "4838515a",
   "metadata": {},
   "outputs": [
    {
     "name": "stdout",
     "output_type": "stream",
     "text": [
      "<class 'pandas.core.frame.DataFrame'>\n",
      "RangeIndex: 901 entries, 0 to 900\n",
      "Data columns (total 2 columns):\n",
      " #   Column            Non-Null Count  Dtype  \n",
      "---  ------            --------------  -----  \n",
      " 0   Load-shedding     901 non-null    float64\n",
      " 1   Adaptivity_Level  901 non-null    float64\n",
      "dtypes: float64(2)\n",
      "memory usage: 14.2 KB\n"
     ]
    }
   ],
   "source": [
    "#Storing all numeric type in the data set to data_ and converting the data type to float64\n",
    "data_ = data.drop(category_columns, axis=1).astype('float64')\n",
    "data_.info()"
   ]
  },
  {
   "cell_type": "code",
   "execution_count": 28,
   "id": "2797d000",
   "metadata": {},
   "outputs": [],
   "source": [
    "#Setting all Dtype of the converted object type to float64 for uniformity\n",
    "data_category =data_category.astype('float64')"
   ]
  },
  {
   "cell_type": "code",
   "execution_count": 29,
   "id": "d52d88e8",
   "metadata": {},
   "outputs": [
    {
     "name": "stdout",
     "output_type": "stream",
     "text": [
      "<class 'pandas.core.frame.DataFrame'>\n",
      "RangeIndex: 901 entries, 0 to 900\n",
      "Data columns (total 26 columns):\n",
      " #   Column                           Non-Null Count  Dtype  \n",
      "---  ------                           --------------  -----  \n",
      " 0   Age_1 - 5                        901 non-null    float64\n",
      " 1   Age_11 - 15                      901 non-null    float64\n",
      " 2   Age_16 - 20                      901 non-null    float64\n",
      " 3   Age_21 - 25                      901 non-null    float64\n",
      " 4   Age_26 - 30                      901 non-null    float64\n",
      " 5   Age_6 - 10                       901 non-null    float64\n",
      " 6   Education_Level_College          901 non-null    float64\n",
      " 7   Education_Level_School           901 non-null    float64\n",
      " 8   Education_Level_University       901 non-null    float64\n",
      " 9   Financial_Condition_Mid          901 non-null    float64\n",
      " 10  Financial_Condition_Poor         901 non-null    float64\n",
      " 11  Financial_Condition_Rich         901 non-null    float64\n",
      " 12  Network_Type_2G                  901 non-null    float64\n",
      " 13  Network_Type_3G                  901 non-null    float64\n",
      " 14  Network_Type_4G                  901 non-null    float64\n",
      " 15  Class_Duration_0                 901 non-null    float64\n",
      " 16  Class_Duration_1 - 3             901 non-null    float64\n",
      " 17  Class_Duration_3 - 6             901 non-null    float64\n",
      " 18  Device_Computer                  901 non-null    float64\n",
      " 19  Device_Mobile                    901 non-null    float64\n",
      " 20  Device_Tab                       901 non-null    float64\n",
      " 21  Gender_Girl                      901 non-null    float64\n",
      " 22  Institution_Type_Non Government  901 non-null    float64\n",
      " 23  Location_Yes                     901 non-null    float64\n",
      " 24  Internet_Type_Wifi               901 non-null    float64\n",
      " 25  Self_Lms_Yes                     901 non-null    float64\n",
      "dtypes: float64(26)\n",
      "memory usage: 183.1 KB\n"
     ]
    }
   ],
   "source": [
    "#Checking the conversion\n",
    "data_category.info()"
   ]
  },
  {
   "cell_type": "code",
   "execution_count": 30,
   "id": "815c97df",
   "metadata": {},
   "outputs": [],
   "source": [
    "#Storing the dependent variable to y\n",
    "y = data_.Adaptivity_Level"
   ]
  },
  {
   "cell_type": "code",
   "execution_count": 31,
   "id": "6eb21a44",
   "metadata": {},
   "outputs": [
    {
     "name": "stdout",
     "output_type": "stream",
     "text": [
      "<class 'pandas.core.series.Series'>\n",
      "RangeIndex: 901 entries, 0 to 900\n",
      "Series name: Adaptivity_Level\n",
      "Non-Null Count  Dtype  \n",
      "--------------  -----  \n",
      "901 non-null    float64\n",
      "dtypes: float64(1)\n",
      "memory usage: 7.2 KB\n"
     ]
    }
   ],
   "source": [
    "#Checking the transfer\n",
    "y.info()"
   ]
  },
  {
   "cell_type": "code",
   "execution_count": 32,
   "id": "2ee7546c",
   "metadata": {},
   "outputs": [],
   "source": [
    "#Removing the dependent variable in the data frame containing the other numeric independent variable\n",
    "data_ = data_.drop(['Adaptivity_Level'], axis = 1)"
   ]
  },
  {
   "cell_type": "code",
   "execution_count": 33,
   "id": "632a4ba8",
   "metadata": {},
   "outputs": [
    {
     "name": "stdout",
     "output_type": "stream",
     "text": [
      "<class 'pandas.core.frame.DataFrame'>\n",
      "RangeIndex: 901 entries, 0 to 900\n",
      "Data columns (total 1 columns):\n",
      " #   Column         Non-Null Count  Dtype  \n",
      "---  ------         --------------  -----  \n",
      " 0   Load-shedding  901 non-null    float64\n",
      "dtypes: float64(1)\n",
      "memory usage: 7.2 KB\n"
     ]
    }
   ],
   "source": [
    "#Checking the removal\n",
    "data_.info()"
   ]
  },
  {
   "cell_type": "code",
   "execution_count": 34,
   "id": "2cc706ac",
   "metadata": {},
   "outputs": [],
   "source": [
    "#Combining all independent variables\n",
    "X = X = pd.concat([data_, data_category], axis=1)"
   ]
  },
  {
   "cell_type": "code",
   "execution_count": 35,
   "id": "330173d0",
   "metadata": {},
   "outputs": [
    {
     "name": "stdout",
     "output_type": "stream",
     "text": [
      "<class 'pandas.core.frame.DataFrame'>\n",
      "RangeIndex: 901 entries, 0 to 900\n",
      "Data columns (total 27 columns):\n",
      " #   Column                           Non-Null Count  Dtype  \n",
      "---  ------                           --------------  -----  \n",
      " 0   Load-shedding                    901 non-null    float64\n",
      " 1   Age_1 - 5                        901 non-null    float64\n",
      " 2   Age_11 - 15                      901 non-null    float64\n",
      " 3   Age_16 - 20                      901 non-null    float64\n",
      " 4   Age_21 - 25                      901 non-null    float64\n",
      " 5   Age_26 - 30                      901 non-null    float64\n",
      " 6   Age_6 - 10                       901 non-null    float64\n",
      " 7   Education_Level_College          901 non-null    float64\n",
      " 8   Education_Level_School           901 non-null    float64\n",
      " 9   Education_Level_University       901 non-null    float64\n",
      " 10  Financial_Condition_Mid          901 non-null    float64\n",
      " 11  Financial_Condition_Poor         901 non-null    float64\n",
      " 12  Financial_Condition_Rich         901 non-null    float64\n",
      " 13  Network_Type_2G                  901 non-null    float64\n",
      " 14  Network_Type_3G                  901 non-null    float64\n",
      " 15  Network_Type_4G                  901 non-null    float64\n",
      " 16  Class_Duration_0                 901 non-null    float64\n",
      " 17  Class_Duration_1 - 3             901 non-null    float64\n",
      " 18  Class_Duration_3 - 6             901 non-null    float64\n",
      " 19  Device_Computer                  901 non-null    float64\n",
      " 20  Device_Mobile                    901 non-null    float64\n",
      " 21  Device_Tab                       901 non-null    float64\n",
      " 22  Gender_Girl                      901 non-null    float64\n",
      " 23  Institution_Type_Non Government  901 non-null    float64\n",
      " 24  Location_Yes                     901 non-null    float64\n",
      " 25  Internet_Type_Wifi               901 non-null    float64\n",
      " 26  Self_Lms_Yes                     901 non-null    float64\n",
      "dtypes: float64(27)\n",
      "memory usage: 190.2 KB\n"
     ]
    }
   ],
   "source": [
    "#Checking the combining process\n",
    "X.info()"
   ]
  },
  {
   "cell_type": "code",
   "execution_count": 16,
   "id": "a1b4eb77",
   "metadata": {},
   "outputs": [],
   "source": [
    "#data[category_columns] = data[category_columns].apply(lambda x: x.astype('category'))\n",
    "#data[category_columns] = data[category_columns].apply(lambda x: x.category.codes)"
   ]
  },
  {
   "cell_type": "code",
   "execution_count": 36,
   "id": "e9dac82d",
   "metadata": {},
   "outputs": [],
   "source": [
    "lm=LinearRegression()\n",
    "lasso = LassoCV(fit_intercept=True,alphas=2**np.linspace(3,-7,100)*0.5, cv=5)\n",
    "ridge = RidgeCV(fit_intercept=True,alphas=2**np.linspace(3,-7,100)*0.5,cv=5, scoring='neg_mean_squared_error')\n",
    "elasticnet = ElasticNetCV(fit_intercept=True,alphas=2**np.linspace(3,-7,100)*0.5, cv=5)"
   ]
  },
  {
   "cell_type": "code",
   "execution_count": 37,
   "id": "05efed7c",
   "metadata": {},
   "outputs": [],
   "source": [
    "X_train, X_test, y_train, y_test = train_test_split(X,y, test_size=0.2, random_state=1)"
   ]
  },
  {
   "cell_type": "code",
   "execution_count": 38,
   "id": "227f99c4",
   "metadata": {},
   "outputs": [
    {
     "name": "stdout",
     "output_type": "stream",
     "text": [
      "The MSE is:  0.24657395696113124\n"
     ]
    }
   ],
   "source": [
    "# Linear Regression\n",
    "lm.fit(X_train,y_train)\n",
    "lmModelpred = lm.predict(X_test)\n",
    "print(\"The MSE is: \" ,mean_squared_error(y_test, lmModelpred))"
   ]
  },
  {
   "cell_type": "code",
   "execution_count": 39,
   "id": "5492f55a",
   "metadata": {},
   "outputs": [
    {
     "name": "stdout",
     "output_type": "stream",
     "text": [
      "The MSE is:  0.2475851449025785\n"
     ]
    }
   ],
   "source": [
    "# Lasso\n",
    "lasso.fit(X_train, y_train)\n",
    "lassoModelpred = lasso.predict(X_test)\n",
    "print(\"The MSE is: \" ,mean_squared_error(y_test, lassoModelpred))"
   ]
  },
  {
   "cell_type": "code",
   "execution_count": 40,
   "id": "acb74024",
   "metadata": {},
   "outputs": [
    {
     "name": "stdout",
     "output_type": "stream",
     "text": [
      "The MSE is:  0.2452820604448481\n"
     ]
    }
   ],
   "source": [
    "# Ridge regression\n",
    "ridge.fit(X_train, y_train)\n",
    "ridgeModelpred = ridge.predict(X_test)\n",
    "print(\"The MSE is: \" ,mean_squared_error(y_test, ridgeModelpred))"
   ]
  },
  {
   "cell_type": "code",
   "execution_count": 43,
   "id": "5ea8e017",
   "metadata": {},
   "outputs": [
    {
     "name": "stdout",
     "output_type": "stream",
     "text": [
      "The MSE is:  0.24566932367313596\n"
     ]
    }
   ],
   "source": [
    "# Elastic-Net\n",
    "elasticnet.fit(X_train, y_train)\n",
    "elasticnetModelpred = elasticnet.predict(X_test)\n",
    "print(\"The MSE is: \" ,mean_squared_error(y_test, elasticnetModelpred))"
   ]
  },
  {
   "cell_type": "code",
   "execution_count": 44,
   "id": "a7bc6f6a",
   "metadata": {},
   "outputs": [
    {
     "data": {
      "text/plain": [
       "Load-shedding                     -0.055213\n",
       "Age_1 - 5                         -0.028047\n",
       "Age_11 - 15                       -0.032283\n",
       "Age_16 - 20                       -0.124216\n",
       "Age_21 - 25                        0.094426\n",
       "Age_26 - 30                       -0.024088\n",
       "Age_6 - 10                         0.114208\n",
       "Education_Level_College           -0.041777\n",
       "Education_Level_School             0.109210\n",
       "Education_Level_University        -0.067434\n",
       "Financial_Condition_Mid           -0.093050\n",
       "Financial_Condition_Poor          -0.232721\n",
       "Financial_Condition_Rich           0.325771\n",
       "Network_Type_2G                   -0.200016\n",
       "Network_Type_3G                    0.029044\n",
       "Network_Type_4G                    0.170973\n",
       "Class_Duration_0                  -0.442348\n",
       "Class_Duration_1 - 3               0.086224\n",
       "Class_Duration_3 - 6               0.356124\n",
       "Device_Computer                   -0.063511\n",
       "Device_Mobile                      0.092793\n",
       "Device_Tab                        -0.029282\n",
       "Gender_Girl                       -0.067563\n",
       "Institution_Type_Non Government    0.170348\n",
       "Location_Yes                       0.065835\n",
       "Internet_Type_Wifi                -0.005289\n",
       "Self_Lms_Yes                       0.130257\n",
       "dtype: float64"
      ]
     },
     "execution_count": 44,
     "metadata": {},
     "output_type": "execute_result"
    }
   ],
   "source": [
    "pd.Series(ridge.coef_,index=X.columns)"
   ]
  },
  {
   "cell_type": "code",
   "execution_count": 45,
   "id": "fb584c2d",
   "metadata": {
    "scrolled": true
   },
   "outputs": [],
   "source": [
    "# Separate positive and negative coefficients\n",
    "ridge_coeffs = pd.Series(ridge.coef_,index=X.columns)\n",
    "positive_coeffs = ridge_coeffs[ridge_coeffs > 0].sort_values(ascending=False)\n",
    "negative_coeffs = ridge_coeffs[ridge_coeffs < 0].sort_values()"
   ]
  },
  {
   "cell_type": "code",
   "execution_count": 46,
   "id": "947fa396",
   "metadata": {},
   "outputs": [],
   "source": [
    "# DataFrames for positive and negative coefficients\n",
    "positive_df = pd.DataFrame({'Coefficient': positive_coeffs})\n",
    "negative_df = pd.DataFrame({'Coefficient': negative_coeffs})"
   ]
  },
  {
   "cell_type": "code",
   "execution_count": 47,
   "id": "0698fbd8",
   "metadata": {},
   "outputs": [
    {
     "name": "stdout",
     "output_type": "stream",
     "text": [
      "Positive Coefficients:\n",
      "                                 Coefficient\n",
      "Class_Duration_3 - 6                0.356124\n",
      "Financial_Condition_Rich            0.325771\n",
      "Network_Type_4G                     0.170973\n",
      "Institution_Type_Non Government     0.170348\n",
      "Self_Lms_Yes                        0.130257\n",
      "Age_6 - 10                          0.114208\n",
      "Education_Level_School              0.109210\n",
      "Age_21 - 25                         0.094426\n",
      "Device_Mobile                       0.092793\n",
      "Class_Duration_1 - 3                0.086224\n",
      "Location_Yes                        0.065835\n",
      "Network_Type_3G                     0.029044\n",
      "\n",
      "Negative Coefficients:\n",
      "                            Coefficient\n",
      "Class_Duration_0              -0.442348\n",
      "Financial_Condition_Poor      -0.232721\n",
      "Network_Type_2G               -0.200016\n",
      "Age_16 - 20                   -0.124216\n",
      "Financial_Condition_Mid       -0.093050\n",
      "Gender_Girl                   -0.067563\n",
      "Education_Level_University    -0.067434\n",
      "Device_Computer               -0.063511\n",
      "Load-shedding                 -0.055213\n",
      "Education_Level_College       -0.041777\n",
      "Age_11 - 15                   -0.032283\n",
      "Device_Tab                    -0.029282\n",
      "Age_1 - 5                     -0.028047\n",
      "Age_26 - 30                   -0.024088\n",
      "Internet_Type_Wifi            -0.005289\n"
     ]
    }
   ],
   "source": [
    "#Printing all values\n",
    "print(\"Positive Coefficients:\")\n",
    "print(positive_df)\n",
    "\n",
    "print(\"\\nNegative Coefficients:\")\n",
    "print(negative_df)"
   ]
  }
 ],
 "metadata": {
  "kernelspec": {
   "display_name": "Python 3 (ipykernel)",
   "language": "python",
   "name": "python3"
  },
  "language_info": {
   "codemirror_mode": {
    "name": "ipython",
    "version": 3
   },
   "file_extension": ".py",
   "mimetype": "text/x-python",
   "name": "python",
   "nbconvert_exporter": "python",
   "pygments_lexer": "ipython3",
   "version": "3.9.12"
  }
 },
 "nbformat": 4,
 "nbformat_minor": 5
}
